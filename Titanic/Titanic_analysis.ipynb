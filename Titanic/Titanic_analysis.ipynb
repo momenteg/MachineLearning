{
 "cells": [
  {
   "cell_type": "markdown",
   "metadata": {
    "collapsed": false
   },
   "source": [
    "Simple analysis of the Titanic data-set for the Kaggle competition: https://www.kaggle.com/c/titanic with 3 different algorithms:\n",
    "- random forest \n",
    "- linear regression\n",
    "- xgboost\n",
    "\n",
    "**Best Score: 0.78469 ** "
   ]
  },
  {
   "cell_type": "code",
   "execution_count": 1,
   "metadata": {
    "collapsed": false
   },
   "outputs": [],
   "source": [
    "import pandas as pd\n",
    "import numpy as np\n",
    "import sklearn as sk\n",
    "from sklearn.tree import DecisionTreeClassifier\n",
    "from sklearn.ensemble import RandomForestClassifier\n",
    "from sklearn.linear_model import LogisticRegression\n",
    "import xgboost as xgb\n",
    "import matplotlib.pyplot as plt\n",
    "import seaborn as sns\n",
    "from sklearn.grid_search import GridSearchCV\n",
    "import warnings\n",
    "warnings.filterwarnings(\"ignore\")\n",
    "\n",
    "\n",
    "%matplotlib inline"
   ]
  },
  {
   "cell_type": "code",
   "execution_count": null,
   "metadata": {
    "collapsed": false
   },
   "outputs": [],
   "source": [
    "ls"
   ]
  },
  {
   "cell_type": "code",
   "execution_count": 2,
   "metadata": {
    "collapsed": false
   },
   "outputs": [],
   "source": [
    "#reading files downloaded from https://www.kaggle.com/c/titanic/data\n",
    "#desciption of the files is avaible at the before mentioned adress\n",
    "test= pd.read_csv(\"test.csv\")\n",
    "train = pd.read_csv(\"train.csv\")"
   ]
  },
  {
   "cell_type": "code",
   "execution_count": 3,
   "metadata": {
    "collapsed": false
   },
   "outputs": [
    {
     "data": {
      "text/html": [
       "<div>\n",
       "<table border=\"1\" class=\"dataframe\">\n",
       "  <thead>\n",
       "    <tr style=\"text-align: right;\">\n",
       "      <th></th>\n",
       "      <th>PassengerId</th>\n",
       "      <th>Survived</th>\n",
       "      <th>Pclass</th>\n",
       "      <th>Age</th>\n",
       "      <th>SibSp</th>\n",
       "      <th>Parch</th>\n",
       "      <th>Fare</th>\n",
       "    </tr>\n",
       "  </thead>\n",
       "  <tbody>\n",
       "    <tr>\n",
       "      <th>count</th>\n",
       "      <td>891.000000</td>\n",
       "      <td>891.000000</td>\n",
       "      <td>891.000000</td>\n",
       "      <td>714.000000</td>\n",
       "      <td>891.000000</td>\n",
       "      <td>891.000000</td>\n",
       "      <td>891.000000</td>\n",
       "    </tr>\n",
       "    <tr>\n",
       "      <th>mean</th>\n",
       "      <td>446.000000</td>\n",
       "      <td>0.383838</td>\n",
       "      <td>2.308642</td>\n",
       "      <td>29.699118</td>\n",
       "      <td>0.523008</td>\n",
       "      <td>0.381594</td>\n",
       "      <td>32.204208</td>\n",
       "    </tr>\n",
       "    <tr>\n",
       "      <th>std</th>\n",
       "      <td>257.353842</td>\n",
       "      <td>0.486592</td>\n",
       "      <td>0.836071</td>\n",
       "      <td>14.526497</td>\n",
       "      <td>1.102743</td>\n",
       "      <td>0.806057</td>\n",
       "      <td>49.693429</td>\n",
       "    </tr>\n",
       "    <tr>\n",
       "      <th>min</th>\n",
       "      <td>1.000000</td>\n",
       "      <td>0.000000</td>\n",
       "      <td>1.000000</td>\n",
       "      <td>0.420000</td>\n",
       "      <td>0.000000</td>\n",
       "      <td>0.000000</td>\n",
       "      <td>0.000000</td>\n",
       "    </tr>\n",
       "    <tr>\n",
       "      <th>25%</th>\n",
       "      <td>223.500000</td>\n",
       "      <td>0.000000</td>\n",
       "      <td>2.000000</td>\n",
       "      <td>20.125000</td>\n",
       "      <td>0.000000</td>\n",
       "      <td>0.000000</td>\n",
       "      <td>7.910400</td>\n",
       "    </tr>\n",
       "    <tr>\n",
       "      <th>50%</th>\n",
       "      <td>446.000000</td>\n",
       "      <td>0.000000</td>\n",
       "      <td>3.000000</td>\n",
       "      <td>28.000000</td>\n",
       "      <td>0.000000</td>\n",
       "      <td>0.000000</td>\n",
       "      <td>14.454200</td>\n",
       "    </tr>\n",
       "    <tr>\n",
       "      <th>75%</th>\n",
       "      <td>668.500000</td>\n",
       "      <td>1.000000</td>\n",
       "      <td>3.000000</td>\n",
       "      <td>38.000000</td>\n",
       "      <td>1.000000</td>\n",
       "      <td>0.000000</td>\n",
       "      <td>31.000000</td>\n",
       "    </tr>\n",
       "    <tr>\n",
       "      <th>max</th>\n",
       "      <td>891.000000</td>\n",
       "      <td>1.000000</td>\n",
       "      <td>3.000000</td>\n",
       "      <td>80.000000</td>\n",
       "      <td>8.000000</td>\n",
       "      <td>6.000000</td>\n",
       "      <td>512.329200</td>\n",
       "    </tr>\n",
       "  </tbody>\n",
       "</table>\n",
       "</div>"
      ],
      "text/plain": [
       "       PassengerId    Survived      Pclass         Age       SibSp  \\\n",
       "count   891.000000  891.000000  891.000000  714.000000  891.000000   \n",
       "mean    446.000000    0.383838    2.308642   29.699118    0.523008   \n",
       "std     257.353842    0.486592    0.836071   14.526497    1.102743   \n",
       "min       1.000000    0.000000    1.000000    0.420000    0.000000   \n",
       "25%     223.500000    0.000000    2.000000   20.125000    0.000000   \n",
       "50%     446.000000    0.000000    3.000000   28.000000    0.000000   \n",
       "75%     668.500000    1.000000    3.000000   38.000000    1.000000   \n",
       "max     891.000000    1.000000    3.000000   80.000000    8.000000   \n",
       "\n",
       "            Parch        Fare  \n",
       "count  891.000000  891.000000  \n",
       "mean     0.381594   32.204208  \n",
       "std      0.806057   49.693429  \n",
       "min      0.000000    0.000000  \n",
       "25%      0.000000    7.910400  \n",
       "50%      0.000000   14.454200  \n",
       "75%      0.000000   31.000000  \n",
       "max      6.000000  512.329200  "
      ]
     },
     "execution_count": 3,
     "metadata": {},
     "output_type": "execute_result"
    }
   ],
   "source": [
    "train.describe()"
   ]
  },
  {
   "cell_type": "code",
   "execution_count": 4,
   "metadata": {
    "collapsed": false
   },
   "outputs": [
    {
     "data": {
      "text/html": [
       "<div>\n",
       "<table border=\"1\" class=\"dataframe\">\n",
       "  <thead>\n",
       "    <tr style=\"text-align: right;\">\n",
       "      <th></th>\n",
       "      <th>PassengerId</th>\n",
       "      <th>Pclass</th>\n",
       "      <th>Age</th>\n",
       "      <th>SibSp</th>\n",
       "      <th>Parch</th>\n",
       "      <th>Fare</th>\n",
       "    </tr>\n",
       "  </thead>\n",
       "  <tbody>\n",
       "    <tr>\n",
       "      <th>count</th>\n",
       "      <td>418.000000</td>\n",
       "      <td>418.000000</td>\n",
       "      <td>332.000000</td>\n",
       "      <td>418.000000</td>\n",
       "      <td>418.000000</td>\n",
       "      <td>417.000000</td>\n",
       "    </tr>\n",
       "    <tr>\n",
       "      <th>mean</th>\n",
       "      <td>1100.500000</td>\n",
       "      <td>2.265550</td>\n",
       "      <td>30.272590</td>\n",
       "      <td>0.447368</td>\n",
       "      <td>0.392344</td>\n",
       "      <td>35.627188</td>\n",
       "    </tr>\n",
       "    <tr>\n",
       "      <th>std</th>\n",
       "      <td>120.810458</td>\n",
       "      <td>0.841838</td>\n",
       "      <td>14.181209</td>\n",
       "      <td>0.896760</td>\n",
       "      <td>0.981429</td>\n",
       "      <td>55.907576</td>\n",
       "    </tr>\n",
       "    <tr>\n",
       "      <th>min</th>\n",
       "      <td>892.000000</td>\n",
       "      <td>1.000000</td>\n",
       "      <td>0.170000</td>\n",
       "      <td>0.000000</td>\n",
       "      <td>0.000000</td>\n",
       "      <td>0.000000</td>\n",
       "    </tr>\n",
       "    <tr>\n",
       "      <th>25%</th>\n",
       "      <td>996.250000</td>\n",
       "      <td>1.000000</td>\n",
       "      <td>21.000000</td>\n",
       "      <td>0.000000</td>\n",
       "      <td>0.000000</td>\n",
       "      <td>7.895800</td>\n",
       "    </tr>\n",
       "    <tr>\n",
       "      <th>50%</th>\n",
       "      <td>1100.500000</td>\n",
       "      <td>3.000000</td>\n",
       "      <td>27.000000</td>\n",
       "      <td>0.000000</td>\n",
       "      <td>0.000000</td>\n",
       "      <td>14.454200</td>\n",
       "    </tr>\n",
       "    <tr>\n",
       "      <th>75%</th>\n",
       "      <td>1204.750000</td>\n",
       "      <td>3.000000</td>\n",
       "      <td>39.000000</td>\n",
       "      <td>1.000000</td>\n",
       "      <td>0.000000</td>\n",
       "      <td>31.500000</td>\n",
       "    </tr>\n",
       "    <tr>\n",
       "      <th>max</th>\n",
       "      <td>1309.000000</td>\n",
       "      <td>3.000000</td>\n",
       "      <td>76.000000</td>\n",
       "      <td>8.000000</td>\n",
       "      <td>9.000000</td>\n",
       "      <td>512.329200</td>\n",
       "    </tr>\n",
       "  </tbody>\n",
       "</table>\n",
       "</div>"
      ],
      "text/plain": [
       "       PassengerId      Pclass         Age       SibSp       Parch        Fare\n",
       "count   418.000000  418.000000  332.000000  418.000000  418.000000  417.000000\n",
       "mean   1100.500000    2.265550   30.272590    0.447368    0.392344   35.627188\n",
       "std     120.810458    0.841838   14.181209    0.896760    0.981429   55.907576\n",
       "min     892.000000    1.000000    0.170000    0.000000    0.000000    0.000000\n",
       "25%     996.250000    1.000000   21.000000    0.000000    0.000000    7.895800\n",
       "50%    1100.500000    3.000000   27.000000    0.000000    0.000000   14.454200\n",
       "75%    1204.750000    3.000000   39.000000    1.000000    0.000000   31.500000\n",
       "max    1309.000000    3.000000   76.000000    8.000000    9.000000  512.329200"
      ]
     },
     "execution_count": 4,
     "metadata": {},
     "output_type": "execute_result"
    }
   ],
   "source": [
    "test.describe()"
   ]
  },
  {
   "cell_type": "code",
   "execution_count": 5,
   "metadata": {
    "collapsed": false
   },
   "outputs": [],
   "source": [
    "########################\n",
    "# cleaning train dataset\n",
    "########################\n",
    "\n",
    "\n",
    "train[\"Age\"] = train[\"Age\"].fillna(train[\"Age\"].median())\n",
    "train[\"Sex\"][train[\"Sex\"] == \"male\"] = 0\n",
    "train[\"Sex\"][train[\"Sex\"] == \"female\"] = 1\n",
    "train[\"Sex\"]=train[\"Sex\"].astype(float)\n",
    "\n",
    "# Impute the Embarked variable\n",
    "train[\"Embarked\"] = train[\"Embarked\"].fillna(\"S\")\n",
    "\n",
    "# Convert the Embarked classes to integer form\n",
    "train[\"Embarked\"][train[\"Embarked\"] == \"S\"] = 0\n",
    "train[\"Embarked\"][train[\"Embarked\"] == \"C\"] = 1\n",
    "train[\"Embarked\"][train[\"Embarked\"] == \"Q\"] = 2\n",
    "\n",
    "train.Cabin=train.Cabin.fillna(\"0\")\n",
    "train.Cabin=train.Cabin.str[:1]\n",
    "\n",
    "train.Cabin[train.Cabin==\"A\"]=1\n",
    "train.Cabin[train.Cabin==\"B\"]=2\n",
    "train.Cabin[train.Cabin==\"C\"]=3\n",
    "train.Cabin[train.Cabin==\"D\"]=4\n",
    "train.Cabin[train.Cabin==\"E\"]=5\n",
    "train.Cabin[train.Cabin==\"F\"]=6\n",
    "train.Cabin[train.Cabin==\"G\"]=7\n",
    "train.Cabin[train.Cabin==\"T\"]=8\n",
    "train.Cabin[train.Cabin==\"0\"]=0\n",
    "train.Cabin=train.Cabin.astype(float)\n",
    "\n",
    "\n",
    "\n",
    "train[\"family_size\"] = train[\"SibSp\"] + train[\"Parch\"] + 1\n"
   ]
  },
  {
   "cell_type": "code",
   "execution_count": 6,
   "metadata": {
    "collapsed": false
   },
   "outputs": [],
   "source": [
    "###############################################################\n",
    "#   cleaning test data and formatting strings to numbers     #\n",
    "###############################################################\n",
    "\n",
    "#print(test[test.Fare.isnull()==True].index[0])\n",
    "\n",
    "test[\"Age\"] = test[\"Age\"].fillna(test[\"Age\"].median())\n",
    "test[\"Sex\"][test[\"Sex\"] == \"male\"] = 0\n",
    "test[\"Sex\"][test[\"Sex\"] == \"female\"] = 1\n",
    "test[\"Embarked\"] = test[\"Embarked\"].fillna(\"S\")\n",
    "test[\"Embarked\"][test[\"Embarked\"] == \"S\"] = 0\n",
    "test[\"Embarked\"][test[\"Embarked\"] == \"C\"] = 1\n",
    "test[\"Embarked\"][test[\"Embarked\"] == \"Q\"] = 2\n",
    "\n",
    "test[\"Fare\"][test[test.Fare.isnull()==True].index[0]] = test.Fare.median()\n",
    "\n",
    "test.Cabin=test.Cabin.fillna(\"0\")\n",
    "test.Cabin=test.Cabin.str[:1]\n",
    "\n",
    "test.Cabin[test.Cabin==\"A\"]=1\n",
    "test.Cabin[test.Cabin==\"B\"]=2\n",
    "test.Cabin[test.Cabin==\"C\"]=3\n",
    "test.Cabin[test.Cabin==\"D\"]=4\n",
    "test.Cabin[test.Cabin==\"E\"]=5\n",
    "test.Cabin[test.Cabin==\"F\"]=6\n",
    "test.Cabin[test.Cabin==\"G\"]=7\n",
    "test.Cabin[test.Cabin==\"T\"]=8\n",
    "test.Cabin[test.Cabin==\"0\"]=0\n",
    "test.Cabin=test.Cabin.astype(float)\n",
    "\n",
    "test[\"family_size\"] = test[\"SibSp\"] + test[\"Parch\"] + 1"
   ]
  },
  {
   "cell_type": "code",
   "execution_count": 7,
   "metadata": {
    "collapsed": false
   },
   "outputs": [],
   "source": [
    "###################################################################\n",
    "# Creating target and features numpy arrays: target, features_one #\n",
    "###################################################################\n",
    "list_columns= [\"Pclass\", \"Sex\", \"Age\", \"family_size\", \"Cabin\", \"Fare\", \"SibSp\", \"Parch\", \"Embarked\"]\n",
    "\n",
    "target_dtc = train[\"Survived\"].values\n",
    "features_dtc = train[list_columns].values\n",
    "\n",
    "test_features = test[list_columns].values\n",
    "PassengerId =np.array(test[\"PassengerId\"]).astype(int)"
   ]
  },
  {
   "cell_type": "code",
   "execution_count": 8,
   "metadata": {
    "collapsed": false
   },
   "outputs": [
    {
     "data": {
      "image/png": "[encoded data removed]",
      "text/plain": [
       "<matplotlib.figure.Figure at 0x7fd0586d6a10>"
      ]
     },
     "metadata": {},
     "output_type": "display_data"
    }
   ],
   "source": [
    "###############################################################\n",
    "#               Random Forest Classifier                      #\n",
    "###############################################################\n",
    "\n",
    "decision_rf = RandomForestClassifier(n_estimators=100,\n",
    "                                     min_samples_leaf=5,\n",
    "                                     max_features='auto',\n",
    "                                     oob_score=True,\n",
    "                                     random_state=42,\n",
    "                                     n_jobs=-1\n",
    "                                     )\n",
    "\n",
    "\n",
    "fitting_rf = decision_rf.fit(features_dtc, target_dtc)\n",
    "\n",
    "# Look at the importance and score of the included features\n",
    "feature_importances = pd.Series(decision_rf.feature_importances_, index=list_columns)\n",
    "feature_importances.sort()\n",
    "feature_importances.plot(kind=\"barh\")\n",
    "plt.show()\n",
    "\n",
    "#print(\"RF feature importance\")\n",
    "#for index,column in enumerate(list_columns):\n",
    "#    print(column + \": \" + str(decision_rf.feature_importances_[index]))"
   ]
  },
  {
   "cell_type": "code",
   "execution_count": 9,
   "metadata": {
    "collapsed": false
   },
   "outputs": [
    {
     "name": "stdout",
     "output_type": "stream",
     "text": [
      "score of the Random Forest on the training dataset is 0.882154882155\n"
     ]
    }
   ],
   "source": [
    "#score of the training dataset\n",
    "print(\"score of the Random Forest on the training dataset is \" + str(decision_rf.score(features_dtc, target_dtc)))\n",
    "\n",
    "prediction_rf = decision_rf.predict(test_features)\n",
    "solution_rf = pd.DataFrame(prediction_rf, PassengerId, columns = [\"Survived\"])\n",
    "solution_rf.to_csv(\"solution_rf.csv\", index_label = [\"PassengerId\"])"
   ]
  },
  {
   "cell_type": "markdown",
   "metadata": {},
   "source": [
    "This solution had a score on kaggle's titanic submission: **  0.78469 **"
   ]
  },
  {
   "cell_type": "code",
   "execution_count": 10,
   "metadata": {
    "collapsed": false
   },
   "outputs": [
    {
     "data": {
      "image/png": "[encoded data removed]",
      "text/plain": [
       "<matplotlib.figure.Figure at 0x7fd056bc6850>"
      ]
     },
     "metadata": {},
     "output_type": "display_data"
    }
   ],
   "source": [
    "###############################################################\n",
    "#               Logistic Regression                           #\n",
    "###############################################################\n",
    "\n",
    "result=[]\n",
    "c_value =[0.01,0.1,1,10,1e2,1e3]\n",
    "for value in c_value:\n",
    "    decision_lr = LogisticRegression(C=value\n",
    "                                     ,random_state=0\n",
    "                                     ,solver='liblinear'\n",
    "                                    )\n",
    "\n",
    "    fitting_lr = decision_lr.fit(features_dtc, target_dtc)\n",
    "    result.append(decision_lr.score(features_dtc, target_dtc))\n",
    "\n",
    "results = pd.Series(result, index=c_value).plot(logx=True)\n",
    "plt.show()\n"
   ]
  },
  {
   "cell_type": "code",
   "execution_count": 11,
   "metadata": {
    "collapsed": false
   },
   "outputs": [
    {
     "name": "stdout",
     "output_type": "stream",
     "text": [
      "score of the Logistic regression on the training dataset is 0.813692480359\n"
     ]
    }
   ],
   "source": [
    "#score of the training dataset\n",
    "\n",
    "print(\"score of the Logistic regression on the training dataset is \" + str(decision_lr.score(features_dtc, target_dtc)))\n",
    "\n",
    "prediction_rf = decision_lr.predict(test_features)\n",
    "solution_rf = pd.DataFrame(prediction_rf, PassengerId, columns = [\"Survived\"])\n",
    "solution_rf.to_csv(\"solution_logistic_regression.csv\", index_label = [\"PassengerId\"])"
   ]
  },
  {
   "cell_type": "markdown",
   "metadata": {},
   "source": [
    "\n",
    "This solution had a score on kaggle's titanic submission: **  0.75120 **\n"
   ]
  },
  {
   "cell_type": "code",
   "execution_count": 14,
   "metadata": {
    "collapsed": false
   },
   "outputs": [
    {
     "data": {
      "text/plain": [
       "XGBClassifier(base_score=0.5, colsample_bytree=1, gamma=0, learning_rate=0.1,\n",
       "       max_delta_step=0, max_depth=3, min_child_weight=1, n_estimators=100,\n",
       "       nthread=-1, objective='binary:logistic', seed=0, silent=True,\n",
       "       subsample=1)"
      ]
     },
     "execution_count": 14,
     "metadata": {},
     "output_type": "execute_result"
    }
   ],
   "source": [
    "## XGBOOST ##\n",
    "xgb_model = xgb.XGBClassifier()\n",
    "                         \n",
    "xgb_model.fit(features_dtc, target_dtc)"
   ]
  },
  {
   "cell_type": "code",
   "execution_count": 16,
   "metadata": {
    "collapsed": false
   },
   "outputs": [],
   "source": [
    "# Look at the importance and score of the included features\n",
    "#feature_importances = pd.Series(xgb_model.feature_importances_, index=list_columns)\n",
    "#feature_importances.sort()\n",
    "#feature_importances.plot(kind=\"barh\")\n",
    "#plt.show()"
   ]
  },
  {
   "cell_type": "code",
   "execution_count": 17,
   "metadata": {
    "collapsed": false
   },
   "outputs": [
    {
     "name": "stdout",
     "output_type": "stream",
     "text": [
      "score of the XGB model on the training dataset is 0.877665544332\n"
     ]
    }
   ],
   "source": [
    "print(\"score of the XGB model on the training dataset is \" + str(xgb_model.score(features_dtc, target_dtc)))\n",
    "\n",
    "\n",
    "prediction_xgb = xgb_model.predict(test_features)\n",
    "solution_rf = pd.DataFrame(prediction_xgb, PassengerId, columns = [\"Survived\"])\n",
    "solution_rf.to_csv(\"solution_xbg_model.csv\", index_label = [\"PassengerId\"])\n"
   ]
  },
  {
   "cell_type": "markdown",
   "metadata": {},
   "source": [
    "This solution had a score on kaggle's titanic submission: **  0.76077 **"
   ]
  },
  {
   "cell_type": "code",
   "execution_count": 29,
   "metadata": {
    "collapsed": false
   },
   "outputs": [],
   "source": [
    "## XGBOOST  OPTIMIZATION##\n",
    "\n",
    "\n",
    "cv_params = {'max_depth': [1,3,5]\n",
    "             ,'min_child_weight': [1,3,6]\n",
    "             ,'n_estimators': [10, 100, 1000]\n",
    "             ,'learning_rate' : [0.01, 0.05,0.1,0.5]\n",
    "             }\n",
    "\n",
    "ind_params ={'seed':42, \n",
    "             #'learning_rate': 0.05, \n",
    "             'subsample': 0.6, \n",
    "             'colsample_bytree': 0.6, \n",
    "             'objective': 'binary:logistic'\n",
    "             #,'n_estimators' : 1000\n",
    "             ,'max_depth': 5\n",
    "             #,'min_child_weight': 3\n",
    "            }   \n",
    "\n",
    "optimized_GBM = GridSearchCV(xgb.XGBClassifier(**ind_params), \n",
    "                            cv_params, \n",
    "                             scoring = 'accuracy', cv = 5, n_jobs = -1) \n"
   ]
  },
  {
   "cell_type": "code",
   "execution_count": 30,
   "metadata": {
    "collapsed": false
   },
   "outputs": [
    {
     "data": {
      "text/plain": [
       "GridSearchCV(cv=5, error_score='raise',\n",
       "       estimator=XGBClassifier(base_score=0.5, colsample_bytree=0.6, gamma=0,\n",
       "       learning_rate=0.1, max_delta_step=0, max_depth=5,\n",
       "       min_child_weight=1, n_estimators=100, nthread=-1,\n",
       "       objective='binary:logistic', seed=42, silent=True, subsample=0.6),\n",
       "       fit_params={}, iid=True, loss_func=None, n_jobs=-1,\n",
       "       param_grid={'n_estimators': [10, 100, 1000], 'learning_rate': [0.01, 0.05, 0.1, 0.5], 'max_depth': [1, 3, 5], 'min_child_weight': [1, 3, 6]},\n",
       "       pre_dispatch='2*n_jobs', refit=True, score_func=None,\n",
       "       scoring='accuracy', verbose=0)"
      ]
     },
     "execution_count": 30,
     "metadata": {},
     "output_type": "execute_result"
    }
   ],
   "source": [
    "optimized_GBM.fit(features_dtc, target_dtc)\n"
   ]
  },
  {
   "cell_type": "code",
   "execution_count": 33,
   "metadata": {
    "collapsed": false
   },
   "outputs": [
    {
     "name": "stdout",
     "output_type": "stream",
     "text": [
      "0.845117845118\n"
     ]
    }
   ],
   "source": [
    "print(optimized_GBM.best_score_)\n"
   ]
  },
  {
   "cell_type": "code",
   "execution_count": 34,
   "metadata": {
    "collapsed": false
   },
   "outputs": [
    {
     "name": "stdout",
     "output_type": "stream",
     "text": [
      "{'n_estimators': 1000, 'learning_rate': 0.05, 'max_depth': 5, 'min_child_weight': 3}\n"
     ]
    }
   ],
   "source": [
    "print(optimized_GBM.best_params_)"
   ]
  },
  {
   "cell_type": "code",
   "execution_count": 22,
   "metadata": {
    "collapsed": false
   },
   "outputs": [
    {
     "data": {
      "text/plain": [
       "XGBClassifier(base_score=0.5, colsample_bytree=1, gamma=0, learning_rate=0.1,\n",
       "       max_delta_step=0, max_depth=3, min_child_weight=1, n_estimators=100,\n",
       "       nthread=-1, objective='binary:logistic', seed=42, silent=True,\n",
       "       subsample=1)"
      ]
     },
     "execution_count": 22,
     "metadata": {},
     "output_type": "execute_result"
    }
   ],
   "source": [
    "## XGBOOST ##\n",
    "xgb_model_opt = xgb.XGBClassifier(seed=42 \n",
    "                                 ,learning_rate= 0.05 \n",
    "                                 ,subsample= 0.8\n",
    "                                 ,colsample_bytree= 0.8 \n",
    "                                 ,objective = 'binary:logistic'\n",
    "                                 ,n_estimators = 1000\n",
    "                                 ,max_depth = 3\n",
    "                                 ,min_child_weight= 2\n",
    "                                 )\n",
    "                         \n",
    "xgb_model_opt.fit(features_dtc, target_dtc)"
   ]
  },
  {
   "cell_type": "code",
   "execution_count": 23,
   "metadata": {
    "collapsed": false
   },
   "outputs": [
    {
     "name": "stdout",
     "output_type": "stream",
     "text": [
      "score of the optimized XGB model on the training dataset is 0.877665544332\n"
     ]
    }
   ],
   "source": [
    "print(\"score of the optimized XGB model on the training dataset is \" + str(xgb_model_opt.score(features_dtc, target_dtc)))\n",
    "\n",
    "\n",
    "prediction_xgb = xgb_model_opt.predict(test_features)\n",
    "solution_rf = pd.DataFrame(prediction_xgb, PassengerId, columns = [\"Survived\"])\n",
    "solution_rf.to_csv(\"solution_xbg_opt_model.csv\", index_label = [\"PassengerId\"])"
   ]
  },
  {
   "cell_type": "markdown",
   "metadata": {},
   "source": [
    "This solution had a score on kaggle's titanic submission: ** 0.68421 **\n"
   ]
  },
  {
   "cell_type": "code",
   "execution_count": null,
   "metadata": {
    "collapsed": true
   },
   "outputs": [],
   "source": []
  }
 ],
 "metadata": {
  "anaconda-cloud": {},
  "kernelspec": {
   "display_name": "Python [default]",
   "language": "python",
   "name": "python2"
  },
  "language_info": {
   "codemirror_mode": {
    "name": "ipython",
    "version": 2
   },
   "file_extension": ".py",
   "mimetype": "text/x-python",
   "name": "python",
   "nbconvert_exporter": "python",
   "pygments_lexer": "ipython2",
   "version": "2.7.12"
  }
 },
 "nbformat": 4,
 "nbformat_minor": 1
}
